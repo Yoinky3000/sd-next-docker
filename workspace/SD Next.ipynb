{
 "cells": [
  {
   "cell_type": "code",
   "execution_count": null,
   "metadata": {},
   "outputs": [],
   "source": [
    "# This is the cell to Run SD Next\n",
    "# Uncomment / change the variables below as you wish\n",
    "\n",
    "# ========================================================================\n",
    "\n",
    "# Use pytorch nightly (will override TORCH_COMMAND)\n",
    "# %env PYTORCH_NIGHTLY=1\n",
    "\n",
    "# Install specific version of torch\n",
    "# %env TORCH_COMMAND=\"\"\n",
    "\n",
    "%env COMMANDLINE_ARGS=--listen\n",
    "\n",
    "# ========================================================================\n",
    "\n",
    "!/sdnext-start.sh"
   ]
  },
  {
   "cell_type": "code",
   "execution_count": null,
   "metadata": {},
   "outputs": [],
   "source": [
    "# This is the cell to manage the things you need to download\n",
    "# Change the variables below as you wish\n",
    "\n",
    "# It is recommended to run this cell first, if you have anything to download\n",
    "# You can ignore this if you have nothing to download\n",
    "\n",
    "# ========================================================================\n",
    "\n",
    "# There can be either one or two element(s) per array\n",
    "# first element is for the download link\n",
    "# the second element is for destination \n",
    "# - default to /workspace if this element is not defined\n",
    "# - relative paths are based on /workspace, example: \"./SD Next/\" will be \"/workspace/SD Next/\"\n",
    "DOWNLOAD_LIST = [\n",
    "    [\"https://huggingface.co/syaimu/7th_Layer_XL/resolve/main/7th_anime_XL-A-fp16.safetensors?download=true\", \"./SD Next/models/Stable-diffusion/\"],\n",
    "    [\"https://huggingface.co/LarryAIDraw/autismmixSDXL_autismmixConfetti/resolve/main/autismmixSDXL_autismmixConfetti.safetensors?download=true\", \"./SD Next/models/Stable-diffusion/\"],\n",
    "    # add more as you wish\n",
    "    # [\"\", \"\"],\n",
    "    # [\"\", \"\"],\n",
    "    # [\"\", \"\"],\n",
    "]\n",
    "\n",
    "# ========================================================================\n",
    "\n",
    "%cd /workspace\n",
    "\n",
    "import os\n",
    "from urllib.parse import urlsplit\n",
    "import requests\n",
    "\n",
    "for dl in DOWNLOAD_LIST:\n",
    "    baseLink = dl[0]\n",
    "    filename = os.path.basename(urlsplit(baseLink).path)\n",
    "    \n",
    "    finalLink = requests.head(baseLink, allow_redirects=True).url\n",
    "    filename = filename if \".\" in filename else os.path.basename(urlsplit(finalLink).path)\n",
    "    \n",
    "    dest = f'\"{dl[1] if len(dl) == 2 else \"./\"}{filename}\"'\n",
    "    baseLink = f'\"{baseLink}\"'\n",
    "\n",
    "    print(f'\\n\\nDownloading {filename} to {dest}...')\n",
    "    !curl --create-dirs -L $baseLink -o $dest\n",
    "\n",
    "print(\"\\n\\nDownload finished\")"
   ]
  },
  {
   "cell_type": "code",
   "execution_count": null,
   "metadata": {},
   "outputs": [],
   "source": [
    "# This is the cell to manage the git version\n",
    "# Change the variables below as you wish\n",
    "\n",
    "# ========================================================================\n",
    "\n",
    "%env BRANCH=\n",
    "%env COMMIT=\n",
    "\n",
    "# ========================================================================\n",
    "\n",
    "!/sdnext-git.sh"
   ]
  }
 ],
 "metadata": {
  "kernelspec": {
   "display_name": "Python 3",
   "language": "python",
   "name": "python3"
  },
  "language_info": {
   "codemirror_mode": {
    "name": "ipython",
    "version": 3
   },
   "file_extension": ".py",
   "mimetype": "text/x-python",
   "name": "python",
   "nbconvert_exporter": "python",
   "pygments_lexer": "ipython3",
   "version": "3.10.11"
  }
 },
 "nbformat": 4,
 "nbformat_minor": 2
}
