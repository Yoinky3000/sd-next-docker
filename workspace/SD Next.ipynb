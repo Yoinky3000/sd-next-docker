{
 "cells": [
  {
   "cell_type": "code",
   "execution_count": null,
   "metadata": {},
   "outputs": [],
   "source": [
    "# This is the cell to Run SD Next\n",
    "# Uncomment / change the variables below as you wish\n",
    "\n",
    "# ========================================================================\n",
    "\n",
    "# Use pytorch nightly (will override TORCH_COMMAND)\n",
    "# %env PYTORCH_NIGHTLY=1\n",
    "\n",
    "# Install specific version of torch\n",
    "# %env TORCH_COMMAND=\"\"\n",
    "\n",
    "%env COMMANDLINE_ARGS=--listen\n",
    "\n",
    "# ========================================================================\n",
    "\n",
    "!/sdnext-start.sh"
   ]
  },
  {
   "cell_type": "code",
   "execution_count": null,
   "metadata": {},
   "outputs": [],
   "source": [
    "# This is the cell to manage the things you need to download\n",
    "# Change the variables below as you wish\n",
    "\n",
    "# It is recommended to run this cell first, if you have anything to download\n",
    "# You can ignore this if you have nothing to download\n",
    "\n",
    "# ========================================================================\n",
    "\n",
    "# There can be either one or two element(s) per array\n",
    "# first element is for the download link\n",
    "# the second element is for destination\n",
    "DOWNLOAD_LIST = [\n",
    "    # download to /workspace/SD Next/models/Stable-diffusion/\n",
    "    [\"https://huggingface.co/syaimu/7th_Layer_XL/resolve/main/7th_anime_XL-A-fp16.safetensors?download=true\", \"./SD Next/models/Stable-diffusion/\"],\n",
    "    # download to /test\n",
    "    # [\"https://huggingface.co/syaimu/7th_Layer_XL/resolve/main/7th_anime_XL-A-fp16.safetensors?download=true\", \"/test\"],\n",
    "    # download to /workspace\n",
    "    # [\"https://huggingface.co/syaimu/7th_Layer_XL/resolve/main/7th_anime_XL-A-fp16.safetensors?download=true\"]\n",
    "]\n",
    "\n",
    "# ========================================================================\n",
    "\n",
    "%cd /workspace\n",
    "\n",
    "import os\n",
    "\n",
    "for dl in DOWNLOAD_LIST:\n",
    "    link = dl[0]\n",
    "    if len(dl) == 2:\n",
    "        dest = dl[1]\n",
    "        os.makedirs(dest, exist_ok=True)\n",
    "        !cd \"$dest\" && curl --create-dirs -J -L -O \"$link\"\n",
    "    else:\n",
    "        !cd /workspace && curl -L -O \"$link\"\n",
    "\n",
    "print(\"Download finished\")"
   ]
  },
  {
   "cell_type": "code",
   "execution_count": null,
   "metadata": {},
   "outputs": [],
   "source": [
    "# This is the cell to manage the git version\n",
    "# Change the variables below as you wish\n",
    "\n",
    "# ========================================================================\n",
    "\n",
    "%env BRANCH=\n",
    "%env COMMIT=\n",
    "\n",
    "# ========================================================================\n",
    "\n",
    "\n",
    "# DON'T CHANGE ANYTHING BELOW\n",
    "\n",
    "!/sdnext-git.sh"
   ]
  }
 ],
 "metadata": {
  "kernelspec": {
   "display_name": "Python 3",
   "language": "python",
   "name": "python3"
  },
  "language_info": {
   "codemirror_mode": {
    "name": "ipython",
    "version": 3
   },
   "file_extension": ".py",
   "mimetype": "text/x-python",
   "name": "python",
   "nbconvert_exporter": "python",
   "pygments_lexer": "ipython3",
   "version": "3.10.11"
  }
 },
 "nbformat": 4,
 "nbformat_minor": 2
}
